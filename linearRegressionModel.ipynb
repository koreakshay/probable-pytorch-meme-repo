{
 "cells": [
  {
   "cell_type": "markdown",
   "metadata": {},
   "source": [
    "# PyTorch workflow fundamentals"
   ]
  },
  {
   "cell_type": "markdown",
   "metadata": {},
   "source": [
    "## Import libraries"
   ]
  },
  {
   "cell_type": "markdown",
   "metadata": {},
   "source": [
    "Let us first import the awsome stuff from PyTorch API that makes things work"
   ]
  },
  {
   "cell_type": "code",
   "execution_count": 55,
   "metadata": {},
   "outputs": [
    {
     "name": "stdout",
     "output_type": "stream",
     "text": [
      "2.2.0\n"
     ]
    }
   ],
   "source": [
    "import torch\n",
    "from torch import nn\n",
    "import matplotlib.pyplot as plt\n",
    "\n",
    "print(torch.__version__)"
   ]
  },
  {
   "cell_type": "markdown",
   "metadata": {},
   "source": [
    "## Create custom data with known parameters"
   ]
  },
  {
   "cell_type": "markdown",
   "metadata": {},
   "source": [
    "### Let us assume w as 0.9 and b as 0.2. We shall create features and labels based on these parameters and check if the Linear Regression models can estimate them accurately"
   ]
  },
  {
   "cell_type": "code",
   "execution_count": 56,
   "metadata": {},
   "outputs": [
    {
     "name": "stdout",
     "output_type": "stream",
     "text": [
      "torch.Size([200]) torch.Size([200])\n"
     ]
    }
   ],
   "source": [
    "w = 0.9\n",
    "b = 0.2\n",
    "\n",
    "X = torch.arange(-2,2,0.02)\n",
    "y = (w*X) + b\n",
    "\n",
    "print(X.shape, y.shape)"
   ]
  },
  {
   "cell_type": "markdown",
   "metadata": {},
   "source": [
    "We're hoping that the model we build would derive the parameter values close to 0.9 and 0.2"
   ]
  },
  {
   "cell_type": "markdown",
   "metadata": {},
   "source": [
    "## Split the data into train set and test set"
   ]
  },
  {
   "cell_type": "code",
   "execution_count": 57,
   "metadata": {},
   "outputs": [
    {
     "name": "stdout",
     "output_type": "stream",
     "text": [
      "torch.Size([160]) torch.Size([160]) torch.Size([40]) torch.Size([40])\n"
     ]
    }
   ],
   "source": [
    "split_percent = int(len(X)*0.8)\n",
    "\n",
    "X_train = X[:split_percent]\n",
    "y_train = y[:split_percent]\n",
    "\n",
    "X_test = X[split_percent:]\n",
    "y_test = y[split_percent:]\n",
    "\n",
    "print(X_train.shape, y_train.shape, X_test.shape, y_test.shape)"
   ]
  },
  {
   "cell_type": "markdown",
   "metadata": {},
   "source": [
    "## Plot predictions"
   ]
  },
  {
   "cell_type": "code",
   "execution_count": 58,
   "metadata": {},
   "outputs": [],
   "source": [
    "def plot_predictions(train_data=X_train, \n",
    "                     train_labels=y_train, \n",
    "                     test_data=X_test, \n",
    "                     test_labels=y_test, \n",
    "                     predictions=None):\n",
    "  \"\"\"\n",
    "  Plots training data, test data and compares predictions.\n",
    "  \"\"\"\n",
    "  plt.figure(figsize=(10, 7))\n",
    "\n",
    "  # Plot training data in blue\n",
    "  plt.scatter(train_data, train_labels, c=\"b\", s=4, label=\"Training data\")\n",
    "  \n",
    "  # Plot test data in green\n",
    "  plt.scatter(test_data, test_labels, c=\"g\", s=4, label=\"Testing data\")\n",
    "\n",
    "  if predictions is not None:\n",
    "    # Plot the predictions in red (predictions were made on the test data)\n",
    "    plt.scatter(test_data, predictions, c=\"r\", s=4, label=\"Predictions\")\n",
    "\n",
    "  # Show the legend\n",
    "  plt.legend(prop={\"size\": 14});"
   ]
  },
  {
   "cell_type": "code",
   "execution_count": 59,
   "metadata": {},
   "outputs": [
    {
     "data": {
      "image/png": "[encoded data removed]",
      "text/plain": [
       "<Figure size 1000x700 with 1 Axes>"
      ]
     },
     "metadata": {},
     "output_type": "display_data"
    }
   ],
   "source": [
    "plot_predictions()"
   ]
  },
  {
   "cell_type": "markdown",
   "metadata": {},
   "source": [
    "# Build model"
   ]
  },
  {
   "cell_type": "code",
   "execution_count": 60,
   "metadata": {},
   "outputs": [],
   "source": [
    "class LinearRegressionModel(nn.Module):\n",
    "    def __init__(self):\n",
    "        super().__init__()\n",
    "        self.weights = nn.Parameter(torch.randn(1,\n",
    "                                                requires_grad=True,\n",
    "                                                dtype=torch.float))\n",
    "        self.bias = nn.Parameter(torch.randn(1,\n",
    "                                             requires_grad=True,\n",
    "                                             dtype=torch.float))\n",
    "        \n",
    "    def forward(self, x : torch.Tensor) -> torch.Tensor:\n",
    "        return self.weights * x + self.bias"
   ]
  },
  {
   "cell_type": "markdown",
   "metadata": {},
   "source": [
    "`nn.Module` contains all the building blocks for neural networks\n",
    "\n",
    "Initiate random parameters using `nn.Parameter` which will be optimized to produce desired outputs\n",
    "\n",
    "Setting `requires_grad` to `True` makes sure that the model tracks the gradients and updates the values based on the loss\n",
    "\n",
    "`def forward()` method defines the computation that will take place on the data passed to the particular nn.Module"
   ]
  },
  {
   "cell_type": "code",
   "execution_count": 61,
   "metadata": {},
   "outputs": [
    {
     "data": {
      "text/plain": [
       "OrderedDict([('weights', tensor([0.3367])), ('bias', tensor([0.1288]))])"
      ]
     },
     "execution_count": 61,
     "metadata": {},
     "output_type": "execute_result"
    }
   ],
   "source": [
    "torch.manual_seed(42)\n",
    "\n",
    "model = LinearRegressionModel()\n",
    "\n",
    "# list(model.parameters())\n",
    "\n",
    "model.state_dict()"
   ]
  },
  {
   "cell_type": "markdown",
   "metadata": {},
   "source": [
    "`model.state_dict()` shows the values of the parameters of the model, in its current state\n",
    "\n",
    "The values are random right now as we initiated them to be random float tensors using `torch.randn()`\n",
    "\n",
    "The model in its current state will have poor predictive power"
   ]
  },
  {
   "cell_type": "code",
   "execution_count": 62,
   "metadata": {},
   "outputs": [],
   "source": [
    "#Create loss function and optimizer\n",
    "\n",
    "loss_fn = nn.MSELoss()\n",
    "\n",
    "optimizer = torch.optim.Adam(params=model.parameters(),\n",
    "                             lr = 0.01)"
   ]
  },
  {
   "cell_type": "markdown",
   "metadata": {},
   "source": [
    "We pick a loss function for the model to optimize. Minimizing the loss function is how the model learns to predict the parameters. The type of loss function we choose depends on the kind of problem we're tackling."
   ]
  },
  {
   "cell_type": "markdown",
   "metadata": {},
   "source": [
    "## Creating an optimizing loop"
   ]
  },
  {
   "cell_type": "code",
   "execution_count": 63,
   "metadata": {},
   "outputs": [
    {
     "name": "stdout",
     "output_type": "stream",
     "text": [
      "Epoch: 0 | MSE Train Loss: 0.2962924838066101 | MSE Test Loss: 0.9397484660148621 \n",
      "Epoch: 10 | MSE Train Loss: 0.18463216722011566 | MSE Test Loss: 0.8132736086845398 \n",
      "Epoch: 20 | MSE Train Loss: 0.12083949893712997 | MSE Test Loss: 0.6221445798873901 \n",
      "Epoch: 30 | MSE Train Loss: 0.0742688775062561 | MSE Test Loss: 0.3827635645866394 \n",
      "Epoch: 40 | MSE Train Loss: 0.04069836437702179 | MSE Test Loss: 0.19676688313484192 \n",
      "Epoch: 50 | MSE Train Loss: 0.02053447626531124 | MSE Test Loss: 0.09139491617679596 \n",
      "Epoch: 60 | MSE Train Loss: 0.009218157269060612 | MSE Test Loss: 0.040969368070364 \n",
      "Epoch: 70 | MSE Train Loss: 0.003605420934036374 | MSE Test Loss: 0.016948359087109566 \n",
      "Epoch: 80 | MSE Train Loss: 0.0011984150623902678 | MSE Test Loss: 0.005626353435218334 \n",
      "Epoch: 90 | MSE Train Loss: 0.0003115361905656755 | MSE Test Loss: 0.0013290042988955975 \n"
     ]
    }
   ],
   "source": [
    "# set the number of epochs\n",
    "epochs = 100\n",
    "\n",
    "# track the loss values\n",
    "train_loss_values = []\n",
    "test_loss_values = []\n",
    "epoch_count = []\n",
    "\n",
    "## training\n",
    "for epoch in range(epochs):\n",
    "\n",
    "    # put the model in training mode\n",
    "    model.train()\n",
    "\n",
    "    # make a forward pass on the training data\n",
    "    y_pred = model(X_train)\n",
    "\n",
    "    # calculate the loss\n",
    "    loss = loss_fn(y_pred,y_train)\n",
    "\n",
    "    # set the gradient values to zero\n",
    "    optimizer.zero_grad()\n",
    "\n",
    "    # calculate the gradients with backward pass\n",
    "    loss.backward()\n",
    "\n",
    "    # update the parameters with the optimizer\n",
    "    optimizer.step()\n",
    "\n",
    "    # set the model in evaluation mode\n",
    "    model.eval()\n",
    "\n",
    "    # forward pass on the test data\n",
    "    with torch.inference_mode():\n",
    "        test_pred = model(X_test)\n",
    "\n",
    "    # calculate the test loss\n",
    "    test_loss = loss_fn(test_pred,y_test.type(torch.float))\n",
    "\n",
    "    # track the results\n",
    "    if epoch % 10 == 0:\n",
    "            epoch_count.append(epoch)\n",
    "            train_loss_values.append(loss.detach().numpy())\n",
    "            test_loss_values.append(test_loss.detach().numpy())\n",
    "            print(f\"Epoch: {epoch} | MSE Train Loss: {loss} | MSE Test Loss: {test_loss} \")"
   ]
  },
  {
   "cell_type": "code",
   "execution_count": 64,
   "metadata": {},
   "outputs": [
    {
     "data": {
      "image/png": "[encoded data removed]",
      "text/plain": [
       "<Figure size 640x480 with 1 Axes>"
      ]
     },
     "metadata": {},
     "output_type": "display_data"
    }
   ],
   "source": [
    "# Plot the loss curves\n",
    "plt.plot(epoch_count, train_loss_values, label=\"Train loss\")\n",
    "plt.plot(epoch_count, test_loss_values, label=\"Test loss\")\n",
    "plt.title(\"Training and test loss curves\")\n",
    "plt.ylabel(\"Loss\")\n",
    "plt.xlabel(\"Epochs\")\n",
    "plt.legend();"
   ]
  },
  {
   "cell_type": "markdown",
   "metadata": {},
   "source": [
    "The model optimized the parameters to lower the train loss and test loss over time. "
   ]
  },
  {
   "cell_type": "code",
   "execution_count": 65,
   "metadata": {},
   "outputs": [
    {
     "data": {
      "text/plain": [
       "OrderedDict([('weights', tensor([0.8919])), ('bias', tensor([0.1970]))])"
      ]
     },
     "execution_count": 65,
     "metadata": {},
     "output_type": "execute_result"
    }
   ],
   "source": [
    "model.state_dict()"
   ]
  },
  {
   "cell_type": "markdown",
   "metadata": {},
   "source": [
    "The original parameters are 0.9 and 0.2\n",
    "\n",
    "Our model got very close to calculating the exact original values for weight and bias"
   ]
  },
  {
   "cell_type": "markdown",
   "metadata": {},
   "source": [
    "# Inference"
   ]
  },
  {
   "cell_type": "code",
   "execution_count": 66,
   "metadata": {},
   "outputs": [
    {
     "data": {
      "text/plain": [
       "tensor([1.2673, 1.2852, 1.3030, 1.3208, 1.3387, 1.3565, 1.3744, 1.3922, 1.4100,\n",
       "        1.4279, 1.4457, 1.4635, 1.4814, 1.4992, 1.5171, 1.5349, 1.5527, 1.5706,\n",
       "        1.5884, 1.6062, 1.6241, 1.6419, 1.6598, 1.6776, 1.6954, 1.7133, 1.7311,\n",
       "        1.7490, 1.7668, 1.7846, 1.8025, 1.8203, 1.8381, 1.8560, 1.8738, 1.8917,\n",
       "        1.9095, 1.9273, 1.9452, 1.9630])"
      ]
     },
     "execution_count": 66,
     "metadata": {},
     "output_type": "execute_result"
    }
   ],
   "source": [
    "model.eval()\n",
    "\n",
    "with torch.inference_mode():\n",
    "    y_preds = model(X_test)\n",
    "\n",
    "y_preds"
   ]
  },
  {
   "cell_type": "code",
   "execution_count": 67,
   "metadata": {},
   "outputs": [
    {
     "data": {
      "image/png": "[encoded data removed]",
      "text/plain": [
       "<Figure size 1000x700 with 1 Axes>"
      ]
     },
     "metadata": {},
     "output_type": "display_data"
    }
   ],
   "source": [
    "plot_predictions(predictions=y_preds)"
   ]
  },
  {
   "cell_type": "markdown",
   "metadata": {},
   "source": [
    "# Save model"
   ]
  },
  {
   "cell_type": "code",
   "execution_count": 68,
   "metadata": {},
   "outputs": [
    {
     "name": "stdout",
     "output_type": "stream",
     "text": [
      "Saving model to: models/pytorch_workflow_fundamentals_model.pth\n"
     ]
    }
   ],
   "source": [
    "from pathlib import Path\n",
    "\n",
    "# Create models directory \n",
    "MODEL_PATH = Path(\"models\")\n",
    "MODEL_PATH.mkdir(parents=True, exist_ok=True)\n",
    "\n",
    "# Create model save path \n",
    "MODEL_NAME = \"pytorch_workflow_fundamentals_model.pth\"\n",
    "MODEL_SAVE_PATH = MODEL_PATH / MODEL_NAME\n",
    "\n",
    "# Save the model state dict \n",
    "print(f\"Saving model to: {MODEL_SAVE_PATH}\")\n",
    "torch.save(obj=model.state_dict(), # only saving the state_dict() only saves the models learned parameters\n",
    "           f=MODEL_SAVE_PATH) "
   ]
  },
  {
   "cell_type": "markdown",
   "metadata": {},
   "source": [
    "# Load model"
   ]
  },
  {
   "cell_type": "code",
   "execution_count": 69,
   "metadata": {},
   "outputs": [
    {
     "data": {
      "text/plain": [
       "<All keys matched successfully>"
      ]
     },
     "execution_count": 69,
     "metadata": {},
     "output_type": "execute_result"
    }
   ],
   "source": [
    "loaded_model = LinearRegressionModel()\n",
    "\n",
    "loaded_model.load_state_dict(torch.load(f=MODEL_SAVE_PATH))"
   ]
  }
 ],
 "metadata": {
  "kernelspec": {
   "display_name": "Python 3",
   "language": "python",
   "name": "python3"
  },
  "language_info": {
   "codemirror_mode": {
    "name": "ipython",
    "version": 3
   },
   "file_extension": ".py",
   "mimetype": "text/x-python",
   "name": "python",
   "nbconvert_exporter": "python",
   "pygments_lexer": "ipython3",
   "version": "3.10.11"
  }
 },
 "nbformat": 4,
 "nbformat_minor": 2
}
